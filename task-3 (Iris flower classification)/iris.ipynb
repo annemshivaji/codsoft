{
 "cells": [
  {
   "cell_type": "code",
   "execution_count": 1,
   "id": "46512a1a",
   "metadata": {},
   "outputs": [
    {
     "name": "stdout",
     "output_type": "stream",
     "text": [
      "Accuracy: 1.00\n",
      "Classification Report:\n",
      "                 precision    recall  f1-score   support\n",
      "\n",
      "    Iris-setosa       1.00      1.00      1.00        10\n",
      "Iris-versicolor       1.00      1.00      1.00         9\n",
      " Iris-virginica       1.00      1.00      1.00        11\n",
      "\n",
      "       accuracy                           1.00        30\n",
      "      macro avg       1.00      1.00      1.00        30\n",
      "   weighted avg       1.00      1.00      1.00        30\n",
      "\n"
     ]
    }
   ],
   "source": [
    "import numpy as np\n",
    "import pandas as pd\n",
    "from sklearn.preprocessing import StandardScaler\n",
    "from sklearn.neighbors import KNeighborsClassifier\n",
    "from sklearn.metrics import accuracy_score, classification_report, confusion_matrix\n",
    "from sklearn.model_selection import train_test_split\n",
    "\n",
    "\n",
    "# Step 1: Load and Explore the Dataset\n",
    "iris_url = \"https://archive.ics.uci.edu/ml/machine-learning-databases/iris/iris.data\"\n",
    "names = ['sepal_length', 'sepal_width', 'petal_length', 'petal_width', 'species']\n",
    "iris_data = pd.read_csv(iris_url, names=names)\n",
    "\n",
    "# Step 3: Preprocessing of  the Data\n",
    "# Separate features and target variable\n",
    "X = iris_data.drop('species', axis=1)\n",
    "y = iris_data['species']\n",
    "\n",
    "# Split the data into training and testing sets\n",
    "X_train, X_test, y_train, y_test = train_test_split(X, y, test_size=0.2, random_state=42)\n",
    "\n",
    "# Step 4: Feature Scaling\n",
    "# Standardize the features\n",
    "scaler = StandardScaler()\n",
    "X_train = scaler.fit_transform(X_train)\n",
    "X_test = scaler.transform(X_test)\n",
    "\n",
    "# Step 5: Train a Classifier\n",
    "# Train a k-Nearest Neighbors classifier\n",
    "knn = KNeighborsClassifier(n_neighbors=3)\n",
    "knn.fit(X_train, y_train)\n",
    "\n",
    "# Step 6: Make Predictions on Test Set\n",
    "# Make predictions on the test set\n",
    "y_pred = knn.predict(X_test)\n",
    "\n",
    "# Step 7: Evaluate the Model on Test Set\n",
    "# Calculate accuracy and other metrics\n",
    "accuracy = accuracy_score(y_test, y_pred)\n",
    "class_report = classification_report(y_test, y_pred)\n",
    "\n",
    "print(f\"Accuracy: {accuracy:.2f}\")\n",
    "print(\"Classification Report:\")\n",
    "print(class_report)\n",
    "\n",
    "\n"
   ]
  },
  {
   "cell_type": "code",
   "execution_count": 2,
   "id": "9488169c",
   "metadata": {},
   "outputs": [],
   "source": [
    "\n",
    "# Step 3: Save the DataFrame as a CSV file\n",
    "iris_data.to_csv(\"iris_dataset.csv\", index=False)\n",
    "\n",
    "\n"
   ]
  },
  {
   "cell_type": "code",
   "execution_count": 3,
   "id": "f188a395",
   "metadata": {
    "scrolled": true
   },
   "outputs": [],
   "source": [
    "# Step 8: Predict and Save the Predicted Species for New Data (test.csv)\n",
    "# Load the test data\n",
    "test_data = pd.read_csv(\"test.csv\")\n",
    "\n",
    "# Standardize the test data\n",
    "X_test_new = scaler.transform(test_data)\n",
    "\n",
    "# Make predictions on the new test data\n",
    "y_pred_new = knn.predict(X_test_new)\n",
    "\n",
    "\n",
    "\n",
    "# # Map numerical class labels back to their actual names (as strings)\n",
    "# species_mapping = {0: 'Iris-setosa', 1: 'Iris-versicolor', 2: 'Iris-virginica'}\n",
    "# y_pred_species = [species_mapping[str(label)] for label in y_pred_new]\n",
    "\n",
    "# Add the predicted species to the test_data DataFrame\n",
    "test_data['predicted_species'] = y_pred_new\n",
    "\n",
    "# Save the test_data with predicted species to a new CSV file\n",
    "test_data.to_csv(\"predicted_species.csv\", index=False)\n",
    "\n"
   ]
  },
  {
   "cell_type": "code",
   "execution_count": null,
   "id": "45443603",
   "metadata": {},
   "outputs": [],
   "source": []
  }
 ],
 "metadata": {
  "kernelspec": {
   "display_name": "Python 3 (ipykernel)",
   "language": "python",
   "name": "python3"
  },
  "language_info": {
   "codemirror_mode": {
    "name": "ipython",
    "version": 3
   },
   "file_extension": ".py",
   "mimetype": "text/x-python",
   "name": "python",
   "nbconvert_exporter": "python",
   "pygments_lexer": "ipython3",
   "version": "3.11.1"
  }
 },
 "nbformat": 4,
 "nbformat_minor": 5
}

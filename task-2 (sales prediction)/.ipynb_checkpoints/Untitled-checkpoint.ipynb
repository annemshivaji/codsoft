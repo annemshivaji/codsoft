{
 "cells": [
  {
   "cell_type": "code",
   "execution_count": null,
   "id": "60ef0d09",
   "metadata": {},
   "outputs": [],
   "source": [
    "import numpy as np\n",
    "import pandas as pd\n",
    "from sklearn.model_selection import train_test_split\n",
    "from sklearn.preprocessing import MinMaxScaler\n",
    "import tensorflow as tf\n",
    "from tensorflow.keras.models import Sequential\n",
    "from tensorflow.keras.layers import LSTM, Dense\n",
    "\n",
    "# Step 1: Load and preprocess the data\n",
    "data = pd.read_csv(\"sales_dataset.csv\")\n",
    "X = data['TV advertising'].values.reshape(-1, 1)\n",
    "y = data['sales'].values.reshape(-1, 1)\n",
    "\n",
    "# Normalize the data\n",
    "scaler_X = MinMaxScaler()\n",
    "scaler_y = MinMaxScaler()\n",
    "X = scaler_X.fit_transform(X)\n",
    "y = scaler_y.fit_transform(y)\n",
    "\n",
    "# Step 2: Split the data into training and testing sets\n",
    "X_train, X_test, y_train, y_test = train_test_split(X, y, test_size=0.2, random_state=42)\n",
    "\n",
    "# Step 3: Build the LSTM model\n",
    "model = Sequential()\n",
    "model.add(LSTM(units=64, activation='relu', input_shape=(X_train.shape[1], 1)))\n",
    "model.add(Dense(units=1))\n",
    "\n",
    "# Step 4: Train the LSTM model\n",
    "model.compile(optimizer='adam', loss='mean_squared_error')\n",
    "model.fit(X_train, y_train, epochs=50, batch_size=32)\n",
    "\n",
    "# Step 5: Evaluate the model\n",
    "y_pred = model.predict(X_test)\n",
    "mse = np.mean((y_test - y_pred)**2)\n",
    "\n",
    "# Step 6: Interpret the results\n",
    "# Convert the predictions back to the original scale\n",
    "y_pred_original_scale = scaler_y.inverse_transform(y_pred)\n",
    "\n",
    "# Print mean squared error\n",
    "print(\"Mean Squared Error:\", mse)\n",
    "\n",
    "# Visualize the predictions and actual values\n",
    "# You can use matplotlib or any other plotting library for visualization.\n"
   ]
  },
  {
   "cell_type": "code",
   "execution_count": null,
   "id": "0631e323",
   "metadata": {},
   "outputs": [],
   "source": []
  }
 ],
 "metadata": {
  "kernelspec": {
   "display_name": "Python 3 (ipykernel)",
   "language": "python",
   "name": "python3"
  },
  "language_info": {
   "codemirror_mode": {
    "name": "ipython",
    "version": 3
   },
   "file_extension": ".py",
   "mimetype": "text/x-python",
   "name": "python",
   "nbconvert_exporter": "python",
   "pygments_lexer": "ipython3",
   "version": "3.11.1"
  }
 },
 "nbformat": 4,
 "nbformat_minor": 5
}

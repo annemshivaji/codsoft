{
 "cells": [
  {
   "cell_type": "code",
   "execution_count": 5,
   "id": "355247a8",
   "metadata": {},
   "outputs": [
    {
     "name": "stdout",
     "output_type": "stream",
     "text": [
      "Model Accuracy: 1.00\n"
     ]
    }
   ],
   "source": [
    "import pandas as pd\n",
    "from sklearn.model_selection import train_test_split\n",
    "from sklearn.ensemble import RandomForestClassifier\n",
    "from sklearn.metrics import accuracy_score\n",
    "\n",
    "# Step 1: Data Preprocessing\n",
    "# Load the Titanic dataset\n",
    "df = pd.read_csv(\"titanic_dataset.csv\")\n",
    "\n",
    "# Handle missing values (for simplicity, we'll just drop rows with missing values)\n",
    "df.dropna(inplace=True)\n",
    "\n",
    "# Feature engineering (You can customize this based on the available features and their relevance)\n",
    "# Let's assume you choose the following features for the model\n",
    "selected_features = ['Pclass', 'Sex', 'Age', 'Fare']\n",
    "\n",
    "# Convert categorical variables to numeric (e.g., \"male\" -> 0, \"female\" -> 1)\n",
    "df['Sex'] = df['Sex'].map({'male': 0, 'female': 1})\n",
    "\n",
    "# Select features and target variable\n",
    "X = df[selected_features]\n",
    "y = df['Survived']\n",
    "\n",
    "# Step 2: Model Training\n",
    "# Split the data into training and testing sets\n",
    "X_train, X_test, y_train, y_test = train_test_split(X, y, test_size=0.2, random_state=42)\n",
    "\n",
    "# Create and train a Random Forest Classifier\n",
    "model = RandomForestClassifier(random_state=42)\n",
    "model.fit(X_train, y_train)\n",
    "\n",
    "# Step 3: Predictions\n",
    "# Make predictions on the test set\n",
    "y_pred = model.predict(X_test)\n",
    "\n",
    "# Calculate accuracy on the test set\n",
    "accuracy = accuracy_score(y_test, y_pred)\n",
    "print(f\"Model Accuracy: {accuracy:.2f}\")\n",
    "\n",
    "# Step 4: Generate Output File\n",
    "# Load the test set (assuming the test set doesn't contain the 'Survived' column)\n",
    "test_data = pd.read_csv(\"test.csv\")\n",
    "passenger_names = test_data['Name']\n",
    "\n",
    "\n"
   ]
  },
  {
   "cell_type": "code",
   "execution_count": 6,
   "id": "b3ebc308",
   "metadata": {
    "scrolled": false
   },
   "outputs": [],
   "source": [
    "# Perform the same feature engineering steps as done for the training data\n",
    "test_data['Sex'] = test_data['Sex'].map({'male': 0, 'female': 1})\n",
    "X_submit = test_data[selected_features]\n",
    "\n",
    "\n",
    "\n"
   ]
  },
  {
   "cell_type": "code",
   "execution_count": 7,
   "id": "8024891a",
   "metadata": {
    "scrolled": true
   },
   "outputs": [
    {
     "name": "stderr",
     "output_type": "stream",
     "text": [
      "C:\\Users\\annem\\AppData\\Local\\Programs\\Python\\Python311\\Lib\\site-packages\\sklearn\\base.py:420: UserWarning: X does not have valid feature names, but RandomForestClassifier was fitted with feature names\n",
      "  warnings.warn(\n"
     ]
    }
   ],
   "source": [
    "from sklearn.impute import SimpleImputer\n",
    "\n",
    "# Handle missing values in the test data using SimpleImputer\n",
    "imputer = SimpleImputer(strategy='mean')  # You can choose a different imputation strategy if needed\n",
    "X_submit = imputer.fit_transform(X_submit)\n",
    "\n",
    "# Make predictions on the test set\n",
    "y_submit = model.predict(X_submit)\n",
    "\n"
   ]
  },
  {
   "cell_type": "code",
   "execution_count": 8,
   "id": "885ae5e1",
   "metadata": {},
   "outputs": [],
   "source": [
    "# Step 4: Generate Output File\n",
    "# Create a DataFrame to store the passenger names and their survival predictions\n",
    "submission_df = pd.DataFrame({'PassengerName': test_data['Name'], 'Survived': y_submit})\n",
    "\n",
    "# Save the output to a CSV file\n",
    "submission_df.to_csv(\"titanic_predictions.csv\", index=False)"
   ]
  },
  {
   "cell_type": "code",
   "execution_count": null,
   "id": "5a473de6",
   "metadata": {},
   "outputs": [],
   "source": []
  },
  {
   "cell_type": "code",
   "execution_count": null,
   "id": "2b52fdcb",
   "metadata": {},
   "outputs": [],
   "source": []
  },
  {
   "cell_type": "code",
   "execution_count": null,
   "id": "bdc35428",
   "metadata": {},
   "outputs": [],
   "source": []
  }
 ],
 "metadata": {
  "kernelspec": {
   "display_name": "Python 3 (ipykernel)",
   "language": "python",
   "name": "python3"
  },
  "language_info": {
   "codemirror_mode": {
    "name": "ipython",
    "version": 3
   },
   "file_extension": ".py",
   "mimetype": "text/x-python",
   "name": "python",
   "nbconvert_exporter": "python",
   "pygments_lexer": "ipython3",
   "version": "3.11.1"
  }
 },
 "nbformat": 4,
 "nbformat_minor": 5
}

{
 "cells": [
  {
   "cell_type": "code",
   "execution_count": null,
   "id": "2d4079a2",
   "metadata": {},
   "outputs": [],
   "source": []
  },
  {
   "cell_type": "code",
   "execution_count": 1,
   "id": "fc074910",
   "metadata": {},
   "outputs": [
    {
     "name": "stdout",
     "output_type": "stream",
     "text": [
      "R-squared score: 0.9059011844150826\n"
     ]
    }
   ],
   "source": [
    "import pandas as pd\n",
    "import numpy as np\n",
    "from sklearn.linear_model import LinearRegression\n",
    "from sklearn.preprocessing import LabelEncoder\n",
    "from sklearn.metrics import r2_score\n",
    "from sklearn.model_selection import train_test_split\n",
    "\n",
    "# Step 1: Prepare the data\n",
    "data = pd.read_csv(\"sales_dataset.csv\")\n",
    "\n",
    "# Handle the missing values by justing assigning value 0\n",
    "data.fillna(0, inplace=True)\n",
    "\n",
    "# Step 2: Feature Selection\n",
    "X = data[['TV', 'Radio', 'Newspaper']]\n",
    "y = data['Sales']\n",
    "\n",
    "# Step 3: Train the model\n",
    "X_train, X_test, y_train, y_test = train_test_split(X, y, test_size=0.2, random_state=42)\n",
    "\n",
    "# As it is a regression problem (not classification , Linear Regression model is better)\n",
    "model = LinearRegression()\n",
    "model.fit(X_train, y_train)\n",
    "\n",
    "# Step 4: Lets evaluate the model with r-squared score\n",
    "score = model.score(X_test, y_test)\n",
    "print(\"R-squared score:\", score)\n",
    "\n",
    "# Step 5: Read the test_set and preprocessing of test_setd\n",
    "test= pd.read_csv(\"test.csv\")\n",
    "test.fillna(0, inplace=True)\n",
    "\n",
    "# Extract features for prediction\n",
    "X_new = test[['TV', 'Radio', 'Newspaper']]\n",
    "\n",
    "# Now make the predictions\n",
    "predicted = model.predict(X_new)\n",
    "\n",
    "# Add the sales predicated as a new column in the test dataframe\n",
    "test['sales_predicted'] = predicted\n",
    "\n",
    "# Save the test DataFrame with the sales predicted as a new CSV file\n",
    "test.to_csv(\"sales_predicted.csv\", index=False)\n",
    "\n"
   ]
  },
  {
   "cell_type": "code",
   "execution_count": null,
   "id": "025f4e07",
   "metadata": {},
   "outputs": [],
   "source": []
  },
  {
   "cell_type": "code",
   "execution_count": null,
   "id": "9e722a56",
   "metadata": {},
   "outputs": [],
   "source": []
  }
 ],
 "metadata": {
  "kernelspec": {
   "display_name": "Python 3 (ipykernel)",
   "language": "python",
   "name": "python3"
  },
  "language_info": {
   "codemirror_mode": {
    "name": "ipython",
    "version": 3
   },
   "file_extension": ".py",
   "mimetype": "text/x-python",
   "name": "python",
   "nbconvert_exporter": "python",
   "pygments_lexer": "ipython3",
   "version": "3.11.1"
  }
 },
 "nbformat": 4,
 "nbformat_minor": 5
}
